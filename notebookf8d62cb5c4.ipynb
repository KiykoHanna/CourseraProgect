{
 "cells": [
  {
   "cell_type": "code",
   "execution_count": null,
   "id": "870e354d",
   "metadata": {
    "_cell_guid": "c6769d62-cd1b-4680-b4a0-1361348a0587",
    "_uuid": "cdc4a927-bd8e-4a55-b4dd-66d8dd2e659a",
    "collapsed": false,
    "jupyter": {
     "outputs_hidden": false
    },
    "papermill": {
     "duration": 0.002304,
     "end_time": "2023-03-19T13:06:26.242959",
     "exception": false,
     "start_time": "2023-03-19T13:06:26.240655",
     "status": "completed"
    },
    "tags": []
   },
   "outputs": [],
   "source": []
  }
 ],
 "metadata": {
  "kernelspec": {
   "display_name": "Python 3",
   "language": "python",
   "name": "python3"
  },
  "language_info": {
   "codemirror_mode": {
    "name": "ipython",
    "version": 3
   },
   "file_extension": ".py",
   "mimetype": "text/x-python",
   "name": "python",
   "nbconvert_exporter": "python",
   "pygments_lexer": "ipython3",
   "version": "3.7.12"
  },
  "papermill": {
   "default_parameters": {},
   "duration": 12.366909,
   "end_time": "2023-03-19T13:06:26.972268",
   "environment_variables": {},
   "exception": null,
   "input_path": "__notebook__.ipynb",
   "output_path": "__notebook__.ipynb",
   "parameters": {},
   "start_time": "2023-03-19T13:06:14.605359",
   "version": "2.4.0"
  }
 },
 "nbformat": 4,
 "nbformat_minor": 5
}
